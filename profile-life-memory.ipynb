{
 "cells": [
  {
   "cell_type": "code",
   "execution_count": null,
   "metadata": {
    "collapsed": true
   },
   "outputs": [],
   "source": [
    "import memory_profiler\n",
    "import time"
   ]
  },
  {
   "cell_type": "code",
   "execution_count": null,
   "metadata": {
    "collapsed": false
   },
   "outputs": [],
   "source": [
    "memory_profiler.memory_usage()"
   ]
  },
  {
   "cell_type": "code",
   "execution_count": null,
   "metadata": {
    "collapsed": false
   },
   "outputs": [],
   "source": [
    "%load_ext memory_profiler"
   ]
  },
  {
   "cell_type": "code",
   "execution_count": null,
   "metadata": {
    "collapsed": true
   },
   "outputs": [],
   "source": [
    "import numpy as np\n",
    "import matplotlib\n",
    "import matplotlib.pyplot as plt\n",
    "%matplotlib inline"
   ]
  },
  {
   "cell_type": "code",
   "execution_count": null,
   "metadata": {
    "collapsed": true
   },
   "outputs": [],
   "source": [
    "import dipy.data as dpd"
   ]
  },
  {
   "cell_type": "code",
   "execution_count": null,
   "metadata": {
    "collapsed": false
   },
   "outputs": [],
   "source": [
    "from dipy.data import read_stanford_labels\n",
    "import nibabel as nib\n",
    "hardi_img, gtab, labels_img = read_stanford_labels()\n",
    "data = hardi_img.get_data()\n",
    "#candidate_sl = [s[0] for s in nib.trackvis.read('./probabilistic_small_sphere.trk', points_space='voxel')[0]]\n",
    "candidate_sl = [s[0] for s in nib.trackvis.read('./CSA_detr.trk', points_space='voxel')[0]]"
   ]
  },
  {
   "cell_type": "code",
   "execution_count": null,
   "metadata": {
    "collapsed": false
   },
   "outputs": [],
   "source": [
    "len(candidate_sl)"
   ]
  },
  {
   "cell_type": "code",
   "execution_count": null,
   "metadata": {
    "collapsed": false
   },
   "outputs": [],
   "source": [
    "import dipy.tracking.life as life\n",
    "life_model_memory = life.FiberModel(gtab, conserve_memory=True)\n",
    "#fiber_model = life.FiberModel(gtab)"
   ]
  },
  {
   "cell_type": "code",
   "execution_count": null,
   "metadata": {
    "collapsed": false
   },
   "outputs": [],
   "source": [
    "def fit_memory(model, sl):\n",
    "    model.setup_mmap(sl, None)\n",
    "    return model.fit(data, sl)"
   ]
  },
  {
   "cell_type": "code",
   "execution_count": null,
   "metadata": {
    "collapsed": false
   },
   "outputs": [],
   "source": [
    "for i in np.arange(10, 17):\n",
    "    this = 2 ** i\n",
    "    print(\"Number of streamlines: %s\"%this)\n",
    "    t1 = time.time()\n",
    "    %memit fiber_fit = fit_memory(life_model_memory, candidate_sl[:this])\n",
    "    #%memit fiber_fit = fiber_model.fit(data, candidate_sl[:this], affine=np.eye(4))\n",
    "    print(\"Number of voxels: %s\"%fiber_fit.vox_coords.shape[0])\n",
    "    print(\"That took %s seconds\"%(time.time()-t1))"
   ]
  },
  {
   "cell_type": "code",
   "execution_count": null,
   "metadata": {
    "collapsed": false
   },
   "outputs": [],
   "source": [
    "t1 = time.time()\n",
    "%memit fiber_fit = fiber_model.fit(data, candidate_sl, affine=np.eye(4))\n",
    "print(\"Number of voxels: %s\"%fiber_fit.vox_coords.shape[0])\n",
    "print(\"That took %s seconds\"%(time.time()-t1))"
   ]
  },
  {
   "cell_type": "code",
   "execution_count": null,
   "metadata": {
    "collapsed": true
   },
   "outputs": [],
   "source": []
  }
 ],
 "metadata": {
  "kernelspec": {
   "display_name": "Python 2",
   "language": "python",
   "name": "python2"
  },
  "language_info": {
   "codemirror_mode": {
    "name": "ipython",
    "version": 2
   },
   "file_extension": ".py",
   "mimetype": "text/x-python",
   "name": "python",
   "nbconvert_exporter": "python",
   "pygments_lexer": "ipython2",
   "version": "2.7.11"
  }
 },
 "nbformat": 4,
 "nbformat_minor": 0
}
